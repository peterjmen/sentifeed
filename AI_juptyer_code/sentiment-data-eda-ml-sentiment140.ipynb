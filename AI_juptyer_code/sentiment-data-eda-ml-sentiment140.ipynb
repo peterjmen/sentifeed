{
 "cells": [
  {
   "cell_type": "code",
   "execution_count": 1,
   "id": "41596680",
   "metadata": {
    "_cell_guid": "b1076dfc-b9ad-4769-8c92-a6c4dae69d19",
    "_uuid": "8f2839f25d086af736a60e9eeb907d3b93b6e0e5",
    "execution": {
     "iopub.execute_input": "2023-08-28T12:31:17.614511Z",
     "iopub.status.busy": "2023-08-28T12:31:17.614122Z",
     "iopub.status.idle": "2023-08-28T12:31:17.638061Z",
     "shell.execute_reply": "2023-08-28T12:31:17.636576Z"
    },
    "papermill": {
     "duration": 0.044058,
     "end_time": "2023-08-28T12:31:17.641139",
     "exception": false,
     "start_time": "2023-08-28T12:31:17.597081",
     "status": "completed"
    },
    "tags": []
   },
   "outputs": [
    {
     "name": "stdout",
     "output_type": "stream",
     "text": [
      "/kaggle/input/sentiment140/training.1600000.processed.noemoticon.csv\n"
     ]
    }
   ],
   "source": [
    "import numpy as np # linear algebra\n",
    "import pandas as pd # data processing, CSV file I/O (e.g. pd.read_csv)\n",
    "\n",
    "# Input data files are available in the read-only \"../input/\" directory\n",
    "# For example, running this (by clicking run or pressing Shift+Enter) will list all files under the input directory\n",
    "\n",
    "import os\n",
    "for dirname, _, filenames in os.walk('/kaggle/input'):\n",
    "    for filename in filenames:\n",
    "        print(os.path.join(dirname, filename))"
   ]
  },
  {
   "cell_type": "code",
   "execution_count": 2,
   "id": "d3f3bb06",
   "metadata": {
    "execution": {
     "iopub.execute_input": "2023-08-28T12:31:17.672512Z",
     "iopub.status.busy": "2023-08-28T12:31:17.672087Z",
     "iopub.status.idle": "2023-08-28T12:31:17.677071Z",
     "shell.execute_reply": "2023-08-28T12:31:17.675951Z"
    },
    "papermill": {
     "duration": 0.023346,
     "end_time": "2023-08-28T12:31:17.679450",
     "exception": false,
     "start_time": "2023-08-28T12:31:17.656104",
     "status": "completed"
    },
    "tags": []
   },
   "outputs": [],
   "source": [
    "# Define data directory\n",
    "data_dir = '/kaggle/input/sentiment140'"
   ]
  },
  {
   "cell_type": "code",
   "execution_count": 3,
   "id": "e6cdd9eb",
   "metadata": {
    "execution": {
     "iopub.execute_input": "2023-08-28T12:31:17.712168Z",
     "iopub.status.busy": "2023-08-28T12:31:17.711755Z",
     "iopub.status.idle": "2023-08-28T12:31:17.718507Z",
     "shell.execute_reply": "2023-08-28T12:31:17.717143Z"
    },
    "papermill": {
     "duration": 0.027178,
     "end_time": "2023-08-28T12:31:17.721065",
     "exception": false,
     "start_time": "2023-08-28T12:31:17.693887",
     "status": "completed"
    },
    "tags": []
   },
   "outputs": [
    {
     "name": "stdout",
     "output_type": "stream",
     "text": [
      "/kaggle/input/sentiment140/training.1600000.processed.noemoticon.csv\n"
     ]
    }
   ],
   "source": [
    "#  Walk through the directory and print out file names\n",
    "for dirname, _, filenames in os.walk(data_dir):\n",
    "    for filename in filenames:\n",
    "        print(os.path.join(dirname, filename))"
   ]
  },
  {
   "cell_type": "code",
   "execution_count": 4,
   "id": "d1f5d9c7",
   "metadata": {
    "execution": {
     "iopub.execute_input": "2023-08-28T12:31:17.752558Z",
     "iopub.status.busy": "2023-08-28T12:31:17.752144Z",
     "iopub.status.idle": "2023-08-28T12:31:17.756460Z",
     "shell.execute_reply": "2023-08-28T12:31:17.755643Z"
    },
    "papermill": {
     "duration": 0.022877,
     "end_time": "2023-08-28T12:31:17.758919",
     "exception": false,
     "start_time": "2023-08-28T12:31:17.736042",
     "status": "completed"
    },
    "tags": []
   },
   "outputs": [],
   "source": [
    "# Define file path\n",
    "file_path = os.path.join(data_dir, 'training.1600000.processed.noemoticon.csv')"
   ]
  },
  {
   "cell_type": "code",
   "execution_count": 5,
   "id": "d6998c5a",
   "metadata": {
    "execution": {
     "iopub.execute_input": "2023-08-28T12:31:17.790374Z",
     "iopub.status.busy": "2023-08-28T12:31:17.789612Z",
     "iopub.status.idle": "2023-08-28T12:31:25.815849Z",
     "shell.execute_reply": "2023-08-28T12:31:25.814780Z"
    },
    "papermill": {
     "duration": 8.04621,
     "end_time": "2023-08-28T12:31:25.819789",
     "exception": false,
     "start_time": "2023-08-28T12:31:17.773579",
     "status": "completed"
    },
    "tags": []
   },
   "outputs": [],
   "source": [
    "# Load your data into a pandas dataframe\n",
    "df = pd.read_csv(file_path, encoding='latin1') # This dataset requires latin1 encoding"
   ]
  },
  {
   "cell_type": "code",
   "execution_count": 6,
   "id": "2f232e7c",
   "metadata": {
    "execution": {
     "iopub.execute_input": "2023-08-28T12:31:25.851552Z",
     "iopub.status.busy": "2023-08-28T12:31:25.851133Z",
     "iopub.status.idle": "2023-08-28T12:31:25.880292Z",
     "shell.execute_reply": "2023-08-28T12:31:25.879146Z"
    },
    "papermill": {
     "duration": 0.048431,
     "end_time": "2023-08-28T12:31:25.883324",
     "exception": false,
     "start_time": "2023-08-28T12:31:25.834893",
     "status": "completed"
    },
    "tags": []
   },
   "outputs": [
    {
     "data": {
      "text/html": [
       "<div>\n",
       "<style scoped>\n",
       "    .dataframe tbody tr th:only-of-type {\n",
       "        vertical-align: middle;\n",
       "    }\n",
       "\n",
       "    .dataframe tbody tr th {\n",
       "        vertical-align: top;\n",
       "    }\n",
       "\n",
       "    .dataframe thead th {\n",
       "        text-align: right;\n",
       "    }\n",
       "</style>\n",
       "<table border=\"1\" class=\"dataframe\">\n",
       "  <thead>\n",
       "    <tr style=\"text-align: right;\">\n",
       "      <th></th>\n",
       "      <th>0</th>\n",
       "      <th>1467810369</th>\n",
       "      <th>Mon Apr 06 22:19:45 PDT 2009</th>\n",
       "      <th>NO_QUERY</th>\n",
       "      <th>_TheSpecialOne_</th>\n",
       "      <th>@switchfoot http://twitpic.com/2y1zl - Awww, that's a bummer.  You shoulda got David Carr of Third Day to do it. ;D</th>\n",
       "    </tr>\n",
       "  </thead>\n",
       "  <tbody>\n",
       "    <tr>\n",
       "      <th>0</th>\n",
       "      <td>0</td>\n",
       "      <td>1467810672</td>\n",
       "      <td>Mon Apr 06 22:19:49 PDT 2009</td>\n",
       "      <td>NO_QUERY</td>\n",
       "      <td>scotthamilton</td>\n",
       "      <td>is upset that he can't update his Facebook by ...</td>\n",
       "    </tr>\n",
       "    <tr>\n",
       "      <th>1</th>\n",
       "      <td>0</td>\n",
       "      <td>1467810917</td>\n",
       "      <td>Mon Apr 06 22:19:53 PDT 2009</td>\n",
       "      <td>NO_QUERY</td>\n",
       "      <td>mattycus</td>\n",
       "      <td>@Kenichan I dived many times for the ball. Man...</td>\n",
       "    </tr>\n",
       "    <tr>\n",
       "      <th>2</th>\n",
       "      <td>0</td>\n",
       "      <td>1467811184</td>\n",
       "      <td>Mon Apr 06 22:19:57 PDT 2009</td>\n",
       "      <td>NO_QUERY</td>\n",
       "      <td>ElleCTF</td>\n",
       "      <td>my whole body feels itchy and like its on fire</td>\n",
       "    </tr>\n",
       "    <tr>\n",
       "      <th>3</th>\n",
       "      <td>0</td>\n",
       "      <td>1467811193</td>\n",
       "      <td>Mon Apr 06 22:19:57 PDT 2009</td>\n",
       "      <td>NO_QUERY</td>\n",
       "      <td>Karoli</td>\n",
       "      <td>@nationwideclass no, it's not behaving at all....</td>\n",
       "    </tr>\n",
       "    <tr>\n",
       "      <th>4</th>\n",
       "      <td>0</td>\n",
       "      <td>1467811372</td>\n",
       "      <td>Mon Apr 06 22:20:00 PDT 2009</td>\n",
       "      <td>NO_QUERY</td>\n",
       "      <td>joy_wolf</td>\n",
       "      <td>@Kwesidei not the whole crew</td>\n",
       "    </tr>\n",
       "  </tbody>\n",
       "</table>\n",
       "</div>"
      ],
      "text/plain": [
       "   0  1467810369  Mon Apr 06 22:19:45 PDT 2009  NO_QUERY _TheSpecialOne_  \\\n",
       "0  0  1467810672  Mon Apr 06 22:19:49 PDT 2009  NO_QUERY   scotthamilton   \n",
       "1  0  1467810917  Mon Apr 06 22:19:53 PDT 2009  NO_QUERY        mattycus   \n",
       "2  0  1467811184  Mon Apr 06 22:19:57 PDT 2009  NO_QUERY         ElleCTF   \n",
       "3  0  1467811193  Mon Apr 06 22:19:57 PDT 2009  NO_QUERY          Karoli   \n",
       "4  0  1467811372  Mon Apr 06 22:20:00 PDT 2009  NO_QUERY        joy_wolf   \n",
       "\n",
       "  @switchfoot http://twitpic.com/2y1zl - Awww, that's a bummer.  You shoulda got David Carr of Third Day to do it. ;D  \n",
       "0  is upset that he can't update his Facebook by ...                                                                   \n",
       "1  @Kenichan I dived many times for the ball. Man...                                                                   \n",
       "2    my whole body feels itchy and like its on fire                                                                    \n",
       "3  @nationwideclass no, it's not behaving at all....                                                                   \n",
       "4                      @Kwesidei not the whole crew                                                                    "
      ]
     },
     "execution_count": 6,
     "metadata": {},
     "output_type": "execute_result"
    }
   ],
   "source": [
    "# Check data\n",
    "df.head()"
   ]
  },
  {
   "cell_type": "markdown",
   "id": "d18ba5c8",
   "metadata": {
    "papermill": {
     "duration": 0.014776,
     "end_time": "2023-08-28T12:31:25.915086",
     "exception": false,
     "start_time": "2023-08-28T12:31:25.900310",
     "status": "completed"
    },
    "tags": []
   },
   "source": [
    "### Data has no headings so will give them some:\n"
   ]
  },
  {
   "cell_type": "code",
   "execution_count": 7,
   "id": "e055efe1",
   "metadata": {
    "execution": {
     "iopub.execute_input": "2023-08-28T12:31:25.948243Z",
     "iopub.status.busy": "2023-08-28T12:31:25.947379Z",
     "iopub.status.idle": "2023-08-28T12:31:31.865077Z",
     "shell.execute_reply": "2023-08-28T12:31:31.863913Z"
    },
    "papermill": {
     "duration": 5.936928,
     "end_time": "2023-08-28T12:31:31.867813",
     "exception": false,
     "start_time": "2023-08-28T12:31:25.930885",
     "status": "completed"
    },
    "tags": []
   },
   "outputs": [
    {
     "data": {
      "text/html": [
       "<div>\n",
       "<style scoped>\n",
       "    .dataframe tbody tr th:only-of-type {\n",
       "        vertical-align: middle;\n",
       "    }\n",
       "\n",
       "    .dataframe tbody tr th {\n",
       "        vertical-align: top;\n",
       "    }\n",
       "\n",
       "    .dataframe thead th {\n",
       "        text-align: right;\n",
       "    }\n",
       "</style>\n",
       "<table border=\"1\" class=\"dataframe\">\n",
       "  <thead>\n",
       "    <tr style=\"text-align: right;\">\n",
       "      <th></th>\n",
       "      <th>target</th>\n",
       "      <th>ids</th>\n",
       "      <th>date</th>\n",
       "      <th>flag</th>\n",
       "      <th>user</th>\n",
       "      <th>text</th>\n",
       "    </tr>\n",
       "  </thead>\n",
       "  <tbody>\n",
       "    <tr>\n",
       "      <th>0</th>\n",
       "      <td>0</td>\n",
       "      <td>1467810369</td>\n",
       "      <td>Mon Apr 06 22:19:45 PDT 2009</td>\n",
       "      <td>NO_QUERY</td>\n",
       "      <td>_TheSpecialOne_</td>\n",
       "      <td>@switchfoot http://twitpic.com/2y1zl - Awww, t...</td>\n",
       "    </tr>\n",
       "    <tr>\n",
       "      <th>1</th>\n",
       "      <td>0</td>\n",
       "      <td>1467810672</td>\n",
       "      <td>Mon Apr 06 22:19:49 PDT 2009</td>\n",
       "      <td>NO_QUERY</td>\n",
       "      <td>scotthamilton</td>\n",
       "      <td>is upset that he can't update his Facebook by ...</td>\n",
       "    </tr>\n",
       "    <tr>\n",
       "      <th>2</th>\n",
       "      <td>0</td>\n",
       "      <td>1467810917</td>\n",
       "      <td>Mon Apr 06 22:19:53 PDT 2009</td>\n",
       "      <td>NO_QUERY</td>\n",
       "      <td>mattycus</td>\n",
       "      <td>@Kenichan I dived many times for the ball. Man...</td>\n",
       "    </tr>\n",
       "    <tr>\n",
       "      <th>3</th>\n",
       "      <td>0</td>\n",
       "      <td>1467811184</td>\n",
       "      <td>Mon Apr 06 22:19:57 PDT 2009</td>\n",
       "      <td>NO_QUERY</td>\n",
       "      <td>ElleCTF</td>\n",
       "      <td>my whole body feels itchy and like its on fire</td>\n",
       "    </tr>\n",
       "    <tr>\n",
       "      <th>4</th>\n",
       "      <td>0</td>\n",
       "      <td>1467811193</td>\n",
       "      <td>Mon Apr 06 22:19:57 PDT 2009</td>\n",
       "      <td>NO_QUERY</td>\n",
       "      <td>Karoli</td>\n",
       "      <td>@nationwideclass no, it's not behaving at all....</td>\n",
       "    </tr>\n",
       "  </tbody>\n",
       "</table>\n",
       "</div>"
      ],
      "text/plain": [
       "   target         ids                          date      flag  \\\n",
       "0       0  1467810369  Mon Apr 06 22:19:45 PDT 2009  NO_QUERY   \n",
       "1       0  1467810672  Mon Apr 06 22:19:49 PDT 2009  NO_QUERY   \n",
       "2       0  1467810917  Mon Apr 06 22:19:53 PDT 2009  NO_QUERY   \n",
       "3       0  1467811184  Mon Apr 06 22:19:57 PDT 2009  NO_QUERY   \n",
       "4       0  1467811193  Mon Apr 06 22:19:57 PDT 2009  NO_QUERY   \n",
       "\n",
       "              user                                               text  \n",
       "0  _TheSpecialOne_  @switchfoot http://twitpic.com/2y1zl - Awww, t...  \n",
       "1    scotthamilton  is upset that he can't update his Facebook by ...  \n",
       "2         mattycus  @Kenichan I dived many times for the ball. Man...  \n",
       "3          ElleCTF    my whole body feels itchy and like its on fire   \n",
       "4           Karoli  @nationwideclass no, it's not behaving at all....  "
      ]
     },
     "execution_count": 7,
     "metadata": {},
     "output_type": "execute_result"
    }
   ],
   "source": [
    "df = pd.read_csv(file_path, encoding='latin1', names=['target', 'ids', 'date', 'flag', 'user', 'text'])\n",
    "\n",
    "# Check categories added:\n",
    "df.head()"
   ]
  },
  {
   "cell_type": "markdown",
   "id": "6bc648b9",
   "metadata": {
    "papermill": {
     "duration": 0.014359,
     "end_time": "2023-08-28T12:31:31.897164",
     "exception": false,
     "start_time": "2023-08-28T12:31:31.882805",
     "status": "completed"
    },
    "tags": []
   },
   "source": [
    "Only the sentiment aka \"target\" and \"text\" are relevant for the machine learnign model, so other columns will be dropped"
   ]
  },
  {
   "cell_type": "code",
   "execution_count": 8,
   "id": "383c6a07",
   "metadata": {
    "execution": {
     "iopub.execute_input": "2023-08-28T12:31:31.931557Z",
     "iopub.status.busy": "2023-08-28T12:31:31.931092Z",
     "iopub.status.idle": "2023-08-28T12:31:31.989944Z",
     "shell.execute_reply": "2023-08-28T12:31:31.988468Z"
    },
    "papermill": {
     "duration": 0.080363,
     "end_time": "2023-08-28T12:31:31.992606",
     "exception": false,
     "start_time": "2023-08-28T12:31:31.912243",
     "status": "completed"
    },
    "tags": []
   },
   "outputs": [
    {
     "data": {
      "text/html": [
       "<div>\n",
       "<style scoped>\n",
       "    .dataframe tbody tr th:only-of-type {\n",
       "        vertical-align: middle;\n",
       "    }\n",
       "\n",
       "    .dataframe tbody tr th {\n",
       "        vertical-align: top;\n",
       "    }\n",
       "\n",
       "    .dataframe thead th {\n",
       "        text-align: right;\n",
       "    }\n",
       "</style>\n",
       "<table border=\"1\" class=\"dataframe\">\n",
       "  <thead>\n",
       "    <tr style=\"text-align: right;\">\n",
       "      <th></th>\n",
       "      <th>target</th>\n",
       "      <th>text</th>\n",
       "    </tr>\n",
       "  </thead>\n",
       "  <tbody>\n",
       "    <tr>\n",
       "      <th>0</th>\n",
       "      <td>0</td>\n",
       "      <td>@switchfoot http://twitpic.com/2y1zl - Awww, t...</td>\n",
       "    </tr>\n",
       "    <tr>\n",
       "      <th>1</th>\n",
       "      <td>0</td>\n",
       "      <td>is upset that he can't update his Facebook by ...</td>\n",
       "    </tr>\n",
       "    <tr>\n",
       "      <th>2</th>\n",
       "      <td>0</td>\n",
       "      <td>@Kenichan I dived many times for the ball. Man...</td>\n",
       "    </tr>\n",
       "    <tr>\n",
       "      <th>3</th>\n",
       "      <td>0</td>\n",
       "      <td>my whole body feels itchy and like its on fire</td>\n",
       "    </tr>\n",
       "    <tr>\n",
       "      <th>4</th>\n",
       "      <td>0</td>\n",
       "      <td>@nationwideclass no, it's not behaving at all....</td>\n",
       "    </tr>\n",
       "  </tbody>\n",
       "</table>\n",
       "</div>"
      ],
      "text/plain": [
       "   target                                               text\n",
       "0       0  @switchfoot http://twitpic.com/2y1zl - Awww, t...\n",
       "1       0  is upset that he can't update his Facebook by ...\n",
       "2       0  @Kenichan I dived many times for the ball. Man...\n",
       "3       0    my whole body feels itchy and like its on fire \n",
       "4       0  @nationwideclass no, it's not behaving at all...."
      ]
     },
     "execution_count": 8,
     "metadata": {},
     "output_type": "execute_result"
    }
   ],
   "source": [
    "# Drop unnecessary columns\n",
    "df = df.drop(columns=['ids', 'date', 'flag', 'user'])\n",
    "\n",
    "# Then checking data visually\n",
    "df.head()"
   ]
  },
  {
   "cell_type": "code",
   "execution_count": 9,
   "id": "91e203b1",
   "metadata": {
    "execution": {
     "iopub.execute_input": "2023-08-28T12:31:32.024601Z",
     "iopub.status.busy": "2023-08-28T12:31:32.024106Z",
     "iopub.status.idle": "2023-08-28T12:31:32.031050Z",
     "shell.execute_reply": "2023-08-28T12:31:32.030121Z"
    },
    "papermill": {
     "duration": 0.026002,
     "end_time": "2023-08-28T12:31:32.033531",
     "exception": false,
     "start_time": "2023-08-28T12:31:32.007529",
     "status": "completed"
    },
    "tags": []
   },
   "outputs": [
    {
     "name": "stdout",
     "output_type": "stream",
     "text": [
      "Data field contains:\n",
      "Rows 1600000\n",
      "Columns 2\n"
     ]
    }
   ],
   "source": [
    "# Checking \"shape\" of data.. how many rows and columns\n",
    "# df.shape # returns a tuple of info - columns and rows\n",
    "def print_df_shape(datafield):\n",
    "    print(\"Data field contains:\")\n",
    "    print(f\"Rows {datafield.shape[0]}\")\n",
    "    print(f\"Columns {datafield.shape[1]}\")\n",
    "    \n",
    "print_df_shape(df)"
   ]
  },
  {
   "cell_type": "markdown",
   "id": "821e482e",
   "metadata": {
    "papermill": {
     "duration": 0.01473,
     "end_time": "2023-08-28T12:31:32.063948",
     "exception": false,
     "start_time": "2023-08-28T12:31:32.049218",
     "status": "completed"
    },
    "tags": []
   },
   "source": [
    "### Cannot see any other values in target other than 0, so checking to see that there are also values of \"4\" in the \"target\" column. However this will also reveal whetehr there are any other values that may need to me removed/cleaned"
   ]
  },
  {
   "cell_type": "code",
   "execution_count": 10,
   "id": "f7452267",
   "metadata": {
    "execution": {
     "iopub.execute_input": "2023-08-28T12:31:32.096614Z",
     "iopub.status.busy": "2023-08-28T12:31:32.095913Z",
     "iopub.status.idle": "2023-08-28T12:31:32.116744Z",
     "shell.execute_reply": "2023-08-28T12:31:32.115360Z"
    },
    "papermill": {
     "duration": 0.04046,
     "end_time": "2023-08-28T12:31:32.119408",
     "exception": false,
     "start_time": "2023-08-28T12:31:32.078948",
     "status": "completed"
    },
    "tags": []
   },
   "outputs": [
    {
     "name": "stdout",
     "output_type": "stream",
     "text": [
      "Unique values in the 'target' column:\n",
      "[0 4]\n"
     ]
    }
   ],
   "source": [
    "# Checking unique values in the \"target\" column\n",
    "unique_targets = df['target'].unique()\n",
    "print(\"Unique values in the 'target' column:\")\n",
    "print(unique_targets)"
   ]
  },
  {
   "cell_type": "markdown",
   "id": "517f1c34",
   "metadata": {
    "papermill": {
     "duration": 0.015237,
     "end_time": "2023-08-28T12:31:32.149807",
     "exception": false,
     "start_time": "2023-08-28T12:31:32.134570",
     "status": "completed"
    },
    "tags": []
   },
   "source": [
    "### No other values in target column other than 0 and 4. So no cleaning required, However I check should be done to see that there are equal 0 and 4 values to ensure or atleast reduce bias"
   ]
  },
  {
   "cell_type": "code",
   "execution_count": 11,
   "id": "5cd46b71",
   "metadata": {
    "execution": {
     "iopub.execute_input": "2023-08-28T12:31:32.182500Z",
     "iopub.status.busy": "2023-08-28T12:31:32.181813Z",
     "iopub.status.idle": "2023-08-28T12:31:32.215150Z",
     "shell.execute_reply": "2023-08-28T12:31:32.213725Z"
    },
    "papermill": {
     "duration": 0.053053,
     "end_time": "2023-08-28T12:31:32.217904",
     "exception": false,
     "start_time": "2023-08-28T12:31:32.164851",
     "status": "completed"
    },
    "tags": []
   },
   "outputs": [
    {
     "name": "stdout",
     "output_type": "stream",
     "text": [
      "Counts of unique values in the 'target' column:\n",
      "0    800000\n",
      "4    800000\n",
      "Name: target, dtype: int64\n"
     ]
    }
   ],
   "source": [
    "# Checking the count of each unique value in the \"target\" column\n",
    "target_counts = df['target'].value_counts()\n",
    "\n",
    "# Print the result\n",
    "print(\"Counts of unique values in the 'target' column:\")\n",
    "print(target_counts)"
   ]
  },
  {
   "cell_type": "markdown",
   "id": "4b913bfa",
   "metadata": {
    "papermill": {
     "duration": 0.015456,
     "end_time": "2023-08-28T12:31:32.248815",
     "exception": false,
     "start_time": "2023-08-28T12:31:32.233359",
     "status": "completed"
    },
    "tags": []
   },
   "source": [
    "### This reveals there is an equal split of 80k postive and negative tweets, to eliminate bias in this regard atleast"
   ]
  },
  {
   "cell_type": "code",
   "execution_count": 12,
   "id": "52457f1e",
   "metadata": {
    "execution": {
     "iopub.execute_input": "2023-08-28T12:31:32.281077Z",
     "iopub.status.busy": "2023-08-28T12:31:32.280613Z",
     "iopub.status.idle": "2023-08-28T12:31:32.590397Z",
     "shell.execute_reply": "2023-08-28T12:31:32.589351Z"
    },
    "papermill": {
     "duration": 0.328745,
     "end_time": "2023-08-28T12:31:32.592729",
     "exception": false,
     "start_time": "2023-08-28T12:31:32.263984",
     "status": "completed"
    },
    "tags": []
   },
   "outputs": [
    {
     "data": {
      "image/png": "[encoded data removed]",
      "text/plain": [
       "<Figure size 640x480 with 1 Axes>"
      ]
     },
     "metadata": {},
     "output_type": "display_data"
    }
   ],
   "source": [
    "import matplotlib.pyplot as plt\n",
    "\n",
    "# Sorting the index so 0 comes before 4\n",
    "target_counts.sort_index(inplace=True)\n",
    "\n",
    "# Explicitly specifying colors in the same order as the sorted index\n",
    "colors = ['red', 'green']\n",
    "\n",
    "# Create a bar plot\n",
    "plt.bar(target_counts.index, target_counts.values, color=colors)\n",
    "\n",
    "# Add labels and title\n",
    "plt.xlabel('Target Value')\n",
    "plt.ylabel('Count')\n",
    "plt.title('Counts of unique values in the \"target\" column')\n",
    "\n",
    "# Customizing the x-axis to match specific labels\n",
    "plt.xticks(target_counts.index, ['Negative (0)', 'Positive (4)'])\n",
    "\n",
    "# Show the plot\n",
    "plt.show()\n"
   ]
  },
  {
   "cell_type": "code",
   "execution_count": 13,
   "id": "eec61da1",
   "metadata": {
    "execution": {
     "iopub.execute_input": "2023-08-28T12:31:32.627191Z",
     "iopub.status.busy": "2023-08-28T12:31:32.626330Z",
     "iopub.status.idle": "2023-08-28T12:31:33.184258Z",
     "shell.execute_reply": "2023-08-28T12:31:33.182885Z"
    },
    "papermill": {
     "duration": 0.579075,
     "end_time": "2023-08-28T12:31:33.187454",
     "exception": false,
     "start_time": "2023-08-28T12:31:32.608379",
     "status": "completed"
    },
    "tags": []
   },
   "outputs": [
    {
     "name": "stdout",
     "output_type": "stream",
     "text": [
      "<class 'pandas.core.frame.DataFrame'>\n",
      "RangeIndex: 1600000 entries, 0 to 1599999\n",
      "Data columns (total 2 columns):\n",
      " #   Column  Non-Null Count    Dtype \n",
      "---  ------  --------------    ----- \n",
      " 0   target  1600000 non-null  int64 \n",
      " 1   text    1600000 non-null  object\n",
      "dtypes: int64(1), object(1)\n",
      "memory usage: 24.4+ MB\n"
     ]
    }
   ],
   "source": [
    "# Checking information of columns so can test understand their data type, i.e. incase target is a char/string/object instead of int\n",
    "df.info()"
   ]
  },
  {
   "cell_type": "code",
   "execution_count": 14,
   "id": "46a9b175",
   "metadata": {
    "execution": {
     "iopub.execute_input": "2023-08-28T12:31:33.222345Z",
     "iopub.status.busy": "2023-08-28T12:31:33.221313Z",
     "iopub.status.idle": "2023-08-28T12:31:33.758696Z",
     "shell.execute_reply": "2023-08-28T12:31:33.757006Z"
    },
    "papermill": {
     "duration": 0.557501,
     "end_time": "2023-08-28T12:31:33.761490",
     "exception": false,
     "start_time": "2023-08-28T12:31:33.203989",
     "status": "completed"
    },
    "tags": []
   },
   "outputs": [
    {
     "name": "stdout",
     "output_type": "stream",
     "text": [
      "target    0\n",
      "text      0\n",
      "dtype: int64\n"
     ]
    }
   ],
   "source": [
    "# Show how much missing data\n",
    "print(df.isnull().sum())"
   ]
  },
  {
   "cell_type": "markdown",
   "id": "f0206557",
   "metadata": {
    "papermill": {
     "duration": 0.016273,
     "end_time": "2023-08-28T12:31:33.794472",
     "exception": false,
     "start_time": "2023-08-28T12:31:33.778199",
     "status": "completed"
    },
    "tags": []
   },
   "source": [
    "### No data is missing. Previously checked all data in target column is 0 or 4 so no cleaning is required there.\n",
    "#### However even though the data says noemoticon, it is bst to check this is true"
   ]
  },
  {
   "cell_type": "code",
   "execution_count": 15,
   "id": "a8d69330",
   "metadata": {
    "execution": {
     "iopub.execute_input": "2023-08-28T12:31:33.830478Z",
     "iopub.status.busy": "2023-08-28T12:31:33.830086Z",
     "iopub.status.idle": "2023-08-28T12:31:34.366005Z",
     "shell.execute_reply": "2023-08-28T12:31:34.365104Z"
    },
    "papermill": {
     "duration": 0.557423,
     "end_time": "2023-08-28T12:31:34.368550",
     "exception": false,
     "start_time": "2023-08-28T12:31:33.811127",
     "status": "completed"
    },
    "tags": []
   },
   "outputs": [
    {
     "name": "stdout",
     "output_type": "stream",
     "text": [
      "<class 'pandas.core.frame.DataFrame'>\n",
      "RangeIndex: 1600000 entries, 0 to 1599999\n",
      "Data columns (total 2 columns):\n",
      " #   Column  Non-Null Count    Dtype \n",
      "---  ------  --------------    ----- \n",
      " 0   target  1600000 non-null  int64 \n",
      " 1   text    1600000 non-null  object\n",
      "dtypes: int64(1), object(1)\n",
      "memory usage: 24.4+ MB\n",
      "Data field contains:\n",
      "Rows 1600000\n",
      "Columns 2\n"
     ]
    }
   ],
   "source": [
    "df.info()\n",
    "print_df_shape(df)"
   ]
  },
  {
   "cell_type": "code",
   "execution_count": 16,
   "id": "6fdf6c11",
   "metadata": {
    "execution": {
     "iopub.execute_input": "2023-08-28T12:31:34.403646Z",
     "iopub.status.busy": "2023-08-28T12:31:34.402439Z",
     "iopub.status.idle": "2023-08-28T12:31:38.867096Z",
     "shell.execute_reply": "2023-08-28T12:31:38.865402Z"
    },
    "papermill": {
     "duration": 4.485223,
     "end_time": "2023-08-28T12:31:38.870116",
     "exception": false,
     "start_time": "2023-08-28T12:31:34.384893",
     "status": "completed"
    },
    "tags": []
   },
   "outputs": [
    {
     "name": "stdout",
     "output_type": "stream",
     "text": [
      "True\n"
     ]
    }
   ],
   "source": [
    "# importing regex to help with text processing and pattern matching tasks\n",
    "import re\n",
    "\n",
    "# Define a function that checks if an emoticon is present in a string\n",
    "def contains_emoticon(s):\n",
    "    emoticon_pattern = r'[:;=8][\\-^]?[DP()\\[\\]{}|\\\\/><3OoPp@*#]'\n",
    "    return bool(re.search(emoticon_pattern, s))\n",
    "\n",
    "# Apply this function to every row in your 'text' column\n",
    "df['contains_emoticon'] = df['text'].apply(contains_emoticon)\n",
    "\n",
    "# Check if any rows contain emoticons\n",
    "print(df['contains_emoticon'].any())\n"
   ]
  },
  {
   "cell_type": "code",
   "execution_count": 17,
   "id": "a6bd54d3",
   "metadata": {
    "execution": {
     "iopub.execute_input": "2023-08-28T12:31:38.905250Z",
     "iopub.status.busy": "2023-08-28T12:31:38.904775Z",
     "iopub.status.idle": "2023-08-28T12:31:38.910123Z",
     "shell.execute_reply": "2023-08-28T12:31:38.908978Z"
    },
    "papermill": {
     "duration": 0.02556,
     "end_time": "2023-08-28T12:31:38.912396",
     "exception": false,
     "start_time": "2023-08-28T12:31:38.886836",
     "status": "completed"
    },
    "tags": []
   },
   "outputs": [],
   "source": [
    "### As true was returned, there are emoticons in the text data, but these could aid in the training of the model.\n",
    "#### I will consider training models with and without emoticons and potentially compare whicih is more accurate."
   ]
  },
  {
   "cell_type": "code",
   "execution_count": 18,
   "id": "a1f7b8bd",
   "metadata": {
    "execution": {
     "iopub.execute_input": "2023-08-28T12:31:38.947212Z",
     "iopub.status.busy": "2023-08-28T12:31:38.946737Z",
     "iopub.status.idle": "2023-08-28T12:31:38.958262Z",
     "shell.execute_reply": "2023-08-28T12:31:38.956374Z"
    },
    "papermill": {
     "duration": 0.033673,
     "end_time": "2023-08-28T12:31:38.962182",
     "exception": false,
     "start_time": "2023-08-28T12:31:38.928509",
     "status": "completed"
    },
    "tags": []
   },
   "outputs": [
    {
     "name": "stdout",
     "output_type": "stream",
     "text": [
      "         target                                               text  \\\n",
      "0             0  @switchfoot http://twitpic.com/2y1zl - Awww, t...   \n",
      "1             0  is upset that he can't update his Facebook by ...   \n",
      "2             0  @Kenichan I dived many times for the ball. Man...   \n",
      "3             0    my whole body feels itchy and like its on fire    \n",
      "4             0  @nationwideclass no, it's not behaving at all....   \n",
      "...         ...                                                ...   \n",
      "1599995       4  Just woke up. Having no school is the best fee...   \n",
      "1599996       4  TheWDB.com - Very cool to hear old Walt interv...   \n",
      "1599997       4  Are you ready for your MoJo Makeover? Ask me f...   \n",
      "1599998       4  Happy 38th Birthday to my boo of alll time!!! ...   \n",
      "1599999       4  happy #charitytuesday @theNSPCC @SparksCharity...   \n",
      "\n",
      "         contains_emoticon  \n",
      "0                     True  \n",
      "1                    False  \n",
      "2                    False  \n",
      "3                    False  \n",
      "4                    False  \n",
      "...                    ...  \n",
      "1599995              False  \n",
      "1599996               True  \n",
      "1599997              False  \n",
      "1599998              False  \n",
      "1599999              False  \n",
      "\n",
      "[1600000 rows x 3 columns]\n",
      "Data field contains:\n",
      "Rows 1600000\n",
      "Columns 3\n"
     ]
    }
   ],
   "source": [
    "print(df)\n",
    "print_df_shape(df)"
   ]
  },
  {
   "cell_type": "code",
   "execution_count": 19,
   "id": "27ee8145",
   "metadata": {
    "execution": {
     "iopub.execute_input": "2023-08-28T12:31:38.998141Z",
     "iopub.status.busy": "2023-08-28T12:31:38.997713Z",
     "iopub.status.idle": "2023-08-28T12:31:47.121803Z",
     "shell.execute_reply": "2023-08-28T12:31:47.119573Z"
    },
    "papermill": {
     "duration": 8.145361,
     "end_time": "2023-08-28T12:31:47.124438",
     "exception": false,
     "start_time": "2023-08-28T12:31:38.979077",
     "status": "completed"
    },
    "tags": []
   },
   "outputs": [
    {
     "name": "stdout",
     "output_type": "stream",
     "text": [
      "Total rows containing emoticons: 118761\n",
      "Rows where 'target' is 4 and emoticon is present: 73112\n",
      "Rows where 'target' is 0 and emoticon is present: 45649\n",
      "Rows without emoticons: 1481239\n",
      "Unique emoticons found in the 'text' column:\n",
      "{':-]', ':-D', ';^)', '=\\\\', ';(', '8-p', ':-3', '=(', '=p', ':-p', '=[', '8p', ':-O', ':^D', ';{', '8@', '8-D', '=-o', ':-}', ';|', ':/', ';-3', ';P', '=-)', ':@', ';-]', ';-P', ':)', ':-|', ';^*', ';-|', ':|', '=o', ':-@', ';-o', ';@', ';-O', ';[', '8-|', ':^)', ':[', '=-P', ';#', ';O', ';/', ';}', ';-)', ';-/', ':-\\\\', '8)', '8-3', '=P', '8-)', '=*', ':o', '=-\\\\', ':-*', ':*', ';*', ':\\\\', ';^@', ';D', '8(', ';3', '8^o', '=}', '83', ';-D', '8]', ';o', ':-/', '8P', ':-o', '={', '8}', ':}', ':-{', '=]', '=3', '8D', '8-/', ':3', '=/', ':(', '=-(', '8O', '=-O', '8[', '8|', '8*', '8-(', ';)', ';^]', ':^O', '=@', '8/', ';-*', ';-@', ';p', ';^#', ';-(', ':-[', '=O', ';-}', ':#', ':-#', '=-D', '8-O', ':{', '8#', '=D', ':^*', '=|', '8o', '=^p', ';-p', ':O', ':]', ';-{', ':-P', ':p', ';\\\\', ';]', ':D'}\n"
     ]
    }
   ],
   "source": [
    "import re\n",
    "\n",
    "def find_unique_emoticons(s):\n",
    "    emoticon_pattern = r'[:;=8][\\-^]?[DP()\\[\\]{}|\\\\/><3OoPp@*#]'\n",
    "    matches = re.findall(emoticon_pattern, s)\n",
    "    return list(set(matches))  # Convert the list to a set to get unique emoticons\n",
    "\n",
    "# Create a copy of the original dataframe\n",
    "df_copy = df.copy()\n",
    "\n",
    "# Apply this function to every row in your 'text' column\n",
    "df_copy['unique_emoticons'] = df_copy['text'].apply(find_unique_emoticons)\n",
    "\n",
    "# Create a boolean column 'has_emoticon' which is True if 'unique_emoticons' is not empty (i.e., emoticons are present)\n",
    "df_copy['has_emoticon'] = df_copy['unique_emoticons'].map(len) > 0\n",
    "\n",
    "# Count the total number of rows that contain emoticons\n",
    "total_emoticons = df_copy['has_emoticon'].sum()\n",
    "print(f\"Total rows containing emoticons: {total_emoticons}\")\n",
    "\n",
    "# Count the number of rows where 'target' is 4 and an emoticon is present\n",
    "target4_with_emoticons = df_copy[(df_copy['target'] == 4) & (df_copy['has_emoticon'])].shape[0]\n",
    "print(f\"Rows where 'target' is 4 and emoticon is present: {target4_with_emoticons}\")\n",
    "\n",
    "# Count the number of rows where 'target' is 0 and an emoticon is present\n",
    "target0_with_emoticons = df_copy[(df_copy['target'] == 0) & (df_copy['has_emoticon'])].shape[0]\n",
    "print(f\"Rows where 'target' is 0 and emoticon is present: {target0_with_emoticons}\")\n",
    "\n",
    "# Count the number of rows without emoticons\n",
    "rows_without_emoticons = df_copy.shape[0] - total_emoticons\n",
    "print(f\"Rows without emoticons: {rows_without_emoticons}\")\n",
    "\n",
    "# Print the unique emoticons\n",
    "unique_emoticons = set().union(*df_copy[df_copy['has_emoticon']]['unique_emoticons'])\n",
    "print(\"Unique emoticons found in the 'text' column:\")\n",
    "print(unique_emoticons)\n"
   ]
  },
  {
   "cell_type": "code",
   "execution_count": 20,
   "id": "cc0baa9d",
   "metadata": {
    "execution": {
     "iopub.execute_input": "2023-08-28T12:31:47.159485Z",
     "iopub.status.busy": "2023-08-28T12:31:47.159038Z",
     "iopub.status.idle": "2023-08-28T12:31:47.166276Z",
     "shell.execute_reply": "2023-08-28T12:31:47.164621Z"
    },
    "papermill": {
     "duration": 0.027724,
     "end_time": "2023-08-28T12:31:47.168712",
     "exception": false,
     "start_time": "2023-08-28T12:31:47.140988",
     "status": "completed"
    },
    "tags": []
   },
   "outputs": [
    {
     "name": "stdout",
     "output_type": "stream",
     "text": [
      "Data field contains:\n",
      "Rows 1600000\n",
      "Columns 3\n"
     ]
    }
   ],
   "source": [
    "print_df_shape(df)"
   ]
  },
  {
   "cell_type": "code",
   "execution_count": 21,
   "id": "25a99f38",
   "metadata": {
    "execution": {
     "iopub.execute_input": "2023-08-28T12:31:47.204772Z",
     "iopub.status.busy": "2023-08-28T12:31:47.203310Z",
     "iopub.status.idle": "2023-08-28T12:32:01.208341Z",
     "shell.execute_reply": "2023-08-28T12:32:01.206865Z"
    },
    "papermill": {
     "duration": 14.026187,
     "end_time": "2023-08-28T12:32:01.211281",
     "exception": false,
     "start_time": "2023-08-28T12:31:47.185094",
     "status": "completed"
    },
    "tags": []
   },
   "outputs": [
    {
     "name": "stdout",
     "output_type": "stream",
     "text": [
      "Total rows containing emojis: 0\n",
      "Rows where 'target' is 4 and emoji is present: 0\n",
      "Rows where 'target' is 0 and emoji is present: 0\n",
      "Rows without emojis: 1600000\n"
     ]
    }
   ],
   "source": [
    "def has_emoji(text):\n",
    "    emoji_pattern = re.compile(\"[\"\n",
    "                               u\"\\U0001F600-\\U0001F64F\"  # emoticons\n",
    "                               u\"\\U0001F300-\\U0001F5FF\"  # symbols & pictographs\n",
    "                               u\"\\U0001F680-\\U0001F6FF\"  # transport & map symbols\n",
    "                               u\"\\U0001F1E0-\\U0001F1FF\"  # flags (iOS)\n",
    "                               u\"\\U00002500-\\U00002BEF\"  # chinese characters\n",
    "                               u\"\\U00002702-\\U000027B0\"\n",
    "                               u\"\\U00002702-\\U000027B0\"\n",
    "                               u\"\\U000024C2-\\U0001F251\"\n",
    "                               u\"\\U0001f926-\\U0001f937\"\n",
    "                               u\"\\U00010000-\\U0010ffff\"\n",
    "                               u\"\\u2640-\\u2642\"\n",
    "                               u\"\\u2600-\\u2B55\"\n",
    "                               u\"\\u200d\"\n",
    "                               u\"\\u23cf\"\n",
    "                               u\"\\u23e9\"\n",
    "                               u\"\\u231a\"\n",
    "                               u\"\\ufe0f\"  # dingbats\n",
    "                               u\"\\u3030\"\n",
    "                               \"]+\", flags=re.UNICODE)\n",
    "    return bool(emoji_pattern.search(text))\n",
    "\n",
    "# Apply this function to every row in your 'text' column\n",
    "df['has_emoji'] = df['text'].apply(has_emoji)\n",
    "\n",
    "# Count the total number of rows that contain emojis\n",
    "total_emojis = df['has_emoji'].sum()\n",
    "print(f\"Total rows containing emojis: {total_emojis}\")\n",
    "\n",
    "# Count the number of rows where 'target' is 4 and an emoji is present\n",
    "target4_with_emojis = df[(df['target'] == 4) & (df['has_emoji'])].shape[0]\n",
    "print(f\"Rows where 'target' is 4 and emoji is present: {target4_with_emojis}\")\n",
    "\n",
    "# Count the number of rows where 'target' is 0 and an emoji is present\n",
    "target0_with_emojis = df[(df['target'] == 0) & (df['has_emoji'])].shape[0]\n",
    "print(f\"Rows where 'target' is 0 and emoji is present: {target0_with_emojis}\")\n",
    "\n",
    "# Count the number of rows without emojis\n",
    "rows_without_emojis = df.shape[0] - total_emojis\n",
    "print(f\"Rows without emojis: {rows_without_emojis}\")\n"
   ]
  },
  {
   "cell_type": "code",
   "execution_count": 22,
   "id": "04ec6bc0",
   "metadata": {
    "execution": {
     "iopub.execute_input": "2023-08-28T12:32:01.247672Z",
     "iopub.status.busy": "2023-08-28T12:32:01.246500Z",
     "iopub.status.idle": "2023-08-28T12:32:01.258462Z",
     "shell.execute_reply": "2023-08-28T12:32:01.257623Z"
    },
    "papermill": {
     "duration": 0.032772,
     "end_time": "2023-08-28T12:32:01.260797",
     "exception": false,
     "start_time": "2023-08-28T12:32:01.228025",
     "status": "completed"
    },
    "tags": []
   },
   "outputs": [
    {
     "data": {
      "text/html": [
       "<div>\n",
       "<style scoped>\n",
       "    .dataframe tbody tr th:only-of-type {\n",
       "        vertical-align: middle;\n",
       "    }\n",
       "\n",
       "    .dataframe tbody tr th {\n",
       "        vertical-align: top;\n",
       "    }\n",
       "\n",
       "    .dataframe thead th {\n",
       "        text-align: right;\n",
       "    }\n",
       "</style>\n",
       "<table border=\"1\" class=\"dataframe\">\n",
       "  <thead>\n",
       "    <tr style=\"text-align: right;\">\n",
       "      <th></th>\n",
       "      <th>target</th>\n",
       "      <th>text</th>\n",
       "      <th>contains_emoticon</th>\n",
       "      <th>has_emoji</th>\n",
       "    </tr>\n",
       "  </thead>\n",
       "  <tbody>\n",
       "    <tr>\n",
       "      <th>0</th>\n",
       "      <td>0</td>\n",
       "      <td>@switchfoot http://twitpic.com/2y1zl - Awww, t...</td>\n",
       "      <td>True</td>\n",
       "      <td>False</td>\n",
       "    </tr>\n",
       "    <tr>\n",
       "      <th>1</th>\n",
       "      <td>0</td>\n",
       "      <td>is upset that he can't update his Facebook by ...</td>\n",
       "      <td>False</td>\n",
       "      <td>False</td>\n",
       "    </tr>\n",
       "    <tr>\n",
       "      <th>2</th>\n",
       "      <td>0</td>\n",
       "      <td>@Kenichan I dived many times for the ball. Man...</td>\n",
       "      <td>False</td>\n",
       "      <td>False</td>\n",
       "    </tr>\n",
       "    <tr>\n",
       "      <th>3</th>\n",
       "      <td>0</td>\n",
       "      <td>my whole body feels itchy and like its on fire</td>\n",
       "      <td>False</td>\n",
       "      <td>False</td>\n",
       "    </tr>\n",
       "    <tr>\n",
       "      <th>4</th>\n",
       "      <td>0</td>\n",
       "      <td>@nationwideclass no, it's not behaving at all....</td>\n",
       "      <td>False</td>\n",
       "      <td>False</td>\n",
       "    </tr>\n",
       "  </tbody>\n",
       "</table>\n",
       "</div>"
      ],
      "text/plain": [
       "   target                                               text  \\\n",
       "0       0  @switchfoot http://twitpic.com/2y1zl - Awww, t...   \n",
       "1       0  is upset that he can't update his Facebook by ...   \n",
       "2       0  @Kenichan I dived many times for the ball. Man...   \n",
       "3       0    my whole body feels itchy and like its on fire    \n",
       "4       0  @nationwideclass no, it's not behaving at all....   \n",
       "\n",
       "   contains_emoticon  has_emoji  \n",
       "0               True      False  \n",
       "1              False      False  \n",
       "2              False      False  \n",
       "3              False      False  \n",
       "4              False      False  "
      ]
     },
     "execution_count": 22,
     "metadata": {},
     "output_type": "execute_result"
    }
   ],
   "source": [
    "df.head()\n"
   ]
  },
  {
   "cell_type": "code",
   "execution_count": 23,
   "id": "c9b5a35d",
   "metadata": {
    "execution": {
     "iopub.execute_input": "2023-08-28T12:32:01.300005Z",
     "iopub.status.busy": "2023-08-28T12:32:01.299510Z",
     "iopub.status.idle": "2023-08-28T12:32:01.306289Z",
     "shell.execute_reply": "2023-08-28T12:32:01.304912Z"
    },
    "papermill": {
     "duration": 0.030849,
     "end_time": "2023-08-28T12:32:01.309213",
     "exception": false,
     "start_time": "2023-08-28T12:32:01.278364",
     "status": "completed"
    },
    "tags": []
   },
   "outputs": [
    {
     "name": "stdout",
     "output_type": "stream",
     "text": [
      "Data field contains:\n",
      "Rows 1600000\n",
      "Columns 4\n"
     ]
    }
   ],
   "source": [
    "print_df_shape(df)"
   ]
  },
  {
   "cell_type": "code",
   "execution_count": 24,
   "id": "0ce75deb",
   "metadata": {
    "execution": {
     "iopub.execute_input": "2023-08-28T12:32:01.348680Z",
     "iopub.status.busy": "2023-08-28T12:32:01.348235Z",
     "iopub.status.idle": "2023-08-28T12:32:01.353440Z",
     "shell.execute_reply": "2023-08-28T12:32:01.351938Z"
    },
    "papermill": {
     "duration": 0.028119,
     "end_time": "2023-08-28T12:32:01.355924",
     "exception": false,
     "start_time": "2023-08-28T12:32:01.327805",
     "status": "completed"
    },
    "tags": []
   },
   "outputs": [],
   "source": [
    "# Many of the \"emoticons\" could just be part of links i.e. :/ being part of https:/"
   ]
  },
  {
   "cell_type": "markdown",
   "id": "902d7f79",
   "metadata": {
    "papermill": {
     "duration": 0.017529,
     "end_time": "2023-08-28T12:32:01.391076",
     "exception": false,
     "start_time": "2023-08-28T12:32:01.373547",
     "status": "completed"
    },
    "tags": []
   },
   "source": [
    "#### So my method for detecting emoticons is likely flawed, as this is a reputeable dataset which has already removed the emoticons."
   ]
  },
  {
   "cell_type": "markdown",
   "id": "ff83b46c",
   "metadata": {
    "papermill": {
     "duration": 0.0171,
     "end_time": "2023-08-28T12:32:01.425649",
     "exception": false,
     "start_time": "2023-08-28T12:32:01.408549",
     "status": "completed"
    },
    "tags": []
   },
   "source": [
    "# Leaving emoticons column (or atleast what is detected as emoticons in as it may reveal a pattern)"
   ]
  },
  {
   "cell_type": "code",
   "execution_count": 25,
   "id": "b4eae349",
   "metadata": {
    "execution": {
     "iopub.execute_input": "2023-08-28T12:32:01.462629Z",
     "iopub.status.busy": "2023-08-28T12:32:01.461862Z",
     "iopub.status.idle": "2023-08-28T12:32:01.600072Z",
     "shell.execute_reply": "2023-08-28T12:32:01.598817Z"
    },
    "papermill": {
     "duration": 0.15963,
     "end_time": "2023-08-28T12:32:01.602739",
     "exception": false,
     "start_time": "2023-08-28T12:32:01.443109",
     "status": "completed"
    },
    "tags": []
   },
   "outputs": [
    {
     "name": "stdout",
     "output_type": "stream",
     "text": [
      "Data field contains:\n",
      "Rows 1600000\n",
      "Columns 3\n",
      "Data field contains:\n",
      "Rows 1600000\n",
      "Columns 3\n"
     ]
    }
   ],
   "source": [
    "# Checking DF to drop columns back to relevant columns\n",
    "df.head()\n",
    "# Dropping irrelevant columns:\n",
    "columns_to_drop = ['contained_emojis', 'has_emoji', 'emoji_count']\n",
    "\n",
    "# Only drop the columns that exist in the DataFrame\n",
    "columns_to_drop = [col for col in columns_to_drop if col in df.columns]\n",
    "\n",
    "df = df.drop(columns=columns_to_drop)\n",
    "\n",
    "# Print the DataFrame to see the updated result\n",
    "df.head()\n",
    "print_df_shape(df)\n",
    "\n",
    "# Only drop the columns that exist in the DataFrame\n",
    "columns_to_drop = [col for col in columns_to_drop if col in df.columns]\n",
    "\n",
    "df = df.drop(columns=columns_to_drop)\n",
    "\n",
    "\n",
    "# Print the DataFrame to see the updated result\n",
    "df.head()\n",
    "print_df_shape(df)\n",
    "\n"
   ]
  },
  {
   "cell_type": "markdown",
   "id": "461c57e0",
   "metadata": {
    "papermill": {
     "duration": 0.017323,
     "end_time": "2023-08-28T12:32:01.637740",
     "exception": false,
     "start_time": "2023-08-28T12:32:01.620417",
     "status": "completed"
    },
    "tags": []
   },
   "source": [
    "# TODO BIAS potentially relevant from not using emoji's, pictures, gif's"
   ]
  },
  {
   "cell_type": "code",
   "execution_count": 26,
   "id": "78a81581",
   "metadata": {
    "execution": {
     "iopub.execute_input": "2023-08-28T12:32:01.677946Z",
     "iopub.status.busy": "2023-08-28T12:32:01.677529Z",
     "iopub.status.idle": "2023-08-28T12:32:02.216651Z",
     "shell.execute_reply": "2023-08-28T12:32:02.215060Z"
    },
    "papermill": {
     "duration": 0.564009,
     "end_time": "2023-08-28T12:32:02.219328",
     "exception": false,
     "start_time": "2023-08-28T12:32:01.655319",
     "status": "completed"
    },
    "tags": []
   },
   "outputs": [
    {
     "name": "stdout",
     "output_type": "stream",
     "text": [
      "<class 'pandas.core.frame.DataFrame'>\n",
      "RangeIndex: 1600000 entries, 0 to 1599999\n",
      "Data columns (total 3 columns):\n",
      " #   Column             Non-Null Count    Dtype \n",
      "---  ------             --------------    ----- \n",
      " 0   target             1600000 non-null  int64 \n",
      " 1   text               1600000 non-null  object\n",
      " 2   contains_emoticon  1600000 non-null  bool  \n",
      "dtypes: bool(1), int64(1), object(1)\n",
      "memory usage: 25.9+ MB\n"
     ]
    }
   ],
   "source": [
    "df.info()\n"
   ]
  },
  {
   "cell_type": "code",
   "execution_count": 27,
   "id": "cc6d96a3",
   "metadata": {
    "execution": {
     "iopub.execute_input": "2023-08-28T12:32:02.257879Z",
     "iopub.status.busy": "2023-08-28T12:32:02.256404Z",
     "iopub.status.idle": "2023-08-28T12:32:02.840424Z",
     "shell.execute_reply": "2023-08-28T12:32:02.839185Z"
    },
    "papermill": {
     "duration": 0.605904,
     "end_time": "2023-08-28T12:32:02.843115",
     "exception": false,
     "start_time": "2023-08-28T12:32:02.237211",
     "status": "completed"
    },
    "tags": []
   },
   "outputs": [
    {
     "data": {
      "image/png": "[encoded data removed]",
      "text/plain": [
       "<Figure size 500x500 with 1 Axes>"
      ]
     },
     "metadata": {},
     "output_type": "display_data"
    }
   ],
   "source": [
    "# Group by 'target' and 'contains_emoticon' columns and count occurrences\n",
    "grouped_df = df.groupby(['target', 'contains_emoticon']).size().reset_index(name='count')\n",
    "\n",
    "# Bar width\n",
    "bar_width = 0.95  # Increase this for closer bars\n",
    "\n",
    "# Bar positions\n",
    "bar_positions = np.arange(4)\n",
    "\n",
    "# Getting the counts\n",
    "no_emoticons_counts_negative = grouped_df[(grouped_df['contains_emoticon'] == False) & (grouped_df['target'] == 0)]['count'].values\n",
    "with_emoticons_counts_negative = grouped_df[(grouped_df['contains_emoticon'] == True) & (grouped_df['target'] == 0)]['count'].values\n",
    "no_emoticons_counts_positive = grouped_df[(grouped_df['contains_emoticon'] == False) & (grouped_df['target'] == 4)]['count'].values\n",
    "with_emoticons_counts_positive = grouped_df[(grouped_df['contains_emoticon'] == True) & (grouped_df['target'] == 4)]['count'].values\n",
    "\n",
    "# Create a single list with all counts\n",
    "counts = [no_emoticons_counts_negative[0] if no_emoticons_counts_negative.size > 0 else 0,\n",
    "           with_emoticons_counts_negative[0] if with_emoticons_counts_negative.size > 0 else 0,\n",
    "           no_emoticons_counts_positive[0] if no_emoticons_counts_positive.size > 0 else 0,\n",
    "           with_emoticons_counts_positive[0] if with_emoticons_counts_positive.size > 0 else 0]\n",
    "\n",
    "# Total positive and negative counts\n",
    "total_negative = sum(counts[:2])\n",
    "total_positive = sum(counts[2:])\n",
    "\n",
    "# Labels for each bar\n",
    "labels = ['-ve No Emote', '-ve With Emote', '+ve No Emote', '+ve With Emote']\n",
    "\n",
    "# Colors for each bar\n",
    "colors = ['red', 'lightcoral', 'green', 'lightgreen']\n",
    "\n",
    "# Creating a new figure with increased height\n",
    "fig, ax = plt.subplots(figsize=(5, 5))  # Increased height\n",
    "\n",
    "# Creating the bar chart\n",
    "plt.bar(bar_positions, counts, color=colors, tick_label=labels, width=bar_width)\n",
    "\n",
    "# Adding lines for total positive and negative\n",
    "plt.axhline(total_negative, color='red', linestyle='dashed', linewidth=2, label='Total -ve')\n",
    "plt.axhline(total_positive, color='green', linestyle='dotted', linewidth=2, label='Total +ve')\n",
    "\n",
    "# Labeling\n",
    "plt.xlabel('Category')\n",
    "plt.ylabel('Number of Posts')\n",
    "plt.title('Number of Posts for Each Category')\n",
    "\n",
    "# Adding a legend\n",
    "plt.legend()\n",
    "\n",
    "# Rotating x labels for better visibility\n",
    "plt.xticks(rotation='vertical')\n",
    "\n",
    "# Displaying the graph\n",
    "plt.tight_layout()\n",
    "plt.show()\n"
   ]
  },
  {
   "cell_type": "code",
   "execution_count": 28,
   "id": "094caae0",
   "metadata": {
    "execution": {
     "iopub.execute_input": "2023-08-28T12:32:02.881811Z",
     "iopub.status.busy": "2023-08-28T12:32:02.881310Z",
     "iopub.status.idle": "2023-08-28T12:32:02.886771Z",
     "shell.execute_reply": "2023-08-28T12:32:02.885479Z"
    },
    "papermill": {
     "duration": 0.027922,
     "end_time": "2023-08-28T12:32:02.889122",
     "exception": false,
     "start_time": "2023-08-28T12:32:02.861200",
     "status": "completed"
    },
    "tags": []
   },
   "outputs": [],
   "source": [
    "### I am interested to see the difference int he number of characters each sentiment post has"
   ]
  },
  {
   "cell_type": "code",
   "execution_count": 29,
   "id": "fb4653a5",
   "metadata": {
    "execution": {
     "iopub.execute_input": "2023-08-28T12:32:02.927316Z",
     "iopub.status.busy": "2023-08-28T12:32:02.926909Z",
     "iopub.status.idle": "2023-08-28T12:32:04.155507Z",
     "shell.execute_reply": "2023-08-28T12:32:04.153985Z"
    },
    "papermill": {
     "duration": 1.251164,
     "end_time": "2023-08-28T12:32:04.158300",
     "exception": false,
     "start_time": "2023-08-28T12:32:02.907136",
     "status": "completed"
    },
    "tags": []
   },
   "outputs": [
    {
     "data": {
      "text/html": [
       "<div>\n",
       "<style scoped>\n",
       "    .dataframe tbody tr th:only-of-type {\n",
       "        vertical-align: middle;\n",
       "    }\n",
       "\n",
       "    .dataframe tbody tr th {\n",
       "        vertical-align: top;\n",
       "    }\n",
       "\n",
       "    .dataframe thead th {\n",
       "        text-align: right;\n",
       "    }\n",
       "</style>\n",
       "<table border=\"1\" class=\"dataframe\">\n",
       "  <thead>\n",
       "    <tr style=\"text-align: right;\">\n",
       "      <th></th>\n",
       "      <th>target</th>\n",
       "      <th>text</th>\n",
       "      <th>contains_emoticon</th>\n",
       "      <th>character_count</th>\n",
       "    </tr>\n",
       "  </thead>\n",
       "  <tbody>\n",
       "    <tr>\n",
       "      <th>0</th>\n",
       "      <td>0</td>\n",
       "      <td>@switchfoot http://twitpic.com/2y1zl - Awww, t...</td>\n",
       "      <td>True</td>\n",
       "      <td>115</td>\n",
       "    </tr>\n",
       "    <tr>\n",
       "      <th>1</th>\n",
       "      <td>0</td>\n",
       "      <td>is upset that he can't update his Facebook by ...</td>\n",
       "      <td>False</td>\n",
       "      <td>111</td>\n",
       "    </tr>\n",
       "    <tr>\n",
       "      <th>2</th>\n",
       "      <td>0</td>\n",
       "      <td>@Kenichan I dived many times for the ball. Man...</td>\n",
       "      <td>False</td>\n",
       "      <td>89</td>\n",
       "    </tr>\n",
       "    <tr>\n",
       "      <th>3</th>\n",
       "      <td>0</td>\n",
       "      <td>my whole body feels itchy and like its on fire</td>\n",
       "      <td>False</td>\n",
       "      <td>47</td>\n",
       "    </tr>\n",
       "    <tr>\n",
       "      <th>4</th>\n",
       "      <td>0</td>\n",
       "      <td>@nationwideclass no, it's not behaving at all....</td>\n",
       "      <td>False</td>\n",
       "      <td>111</td>\n",
       "    </tr>\n",
       "  </tbody>\n",
       "</table>\n",
       "</div>"
      ],
      "text/plain": [
       "   target                                               text  \\\n",
       "0       0  @switchfoot http://twitpic.com/2y1zl - Awww, t...   \n",
       "1       0  is upset that he can't update his Facebook by ...   \n",
       "2       0  @Kenichan I dived many times for the ball. Man...   \n",
       "3       0    my whole body feels itchy and like its on fire    \n",
       "4       0  @nationwideclass no, it's not behaving at all....   \n",
       "\n",
       "   contains_emoticon  character_count  \n",
       "0               True              115  \n",
       "1              False              111  \n",
       "2              False               89  \n",
       "3              False               47  \n",
       "4              False              111  "
      ]
     },
     "execution_count": 29,
     "metadata": {},
     "output_type": "execute_result"
    }
   ],
   "source": [
    "# Calculate character count and add a new column to the DataFrame\n",
    "df['character_count'] = df['text'].apply(lambda x: len(x))\n",
    "\n",
    "# Display the updated DataFrame with the new column\n",
    "df.head()\n"
   ]
  },
  {
   "cell_type": "code",
   "execution_count": 30,
   "id": "5223f182",
   "metadata": {
    "execution": {
     "iopub.execute_input": "2023-08-28T12:32:04.197631Z",
     "iopub.status.busy": "2023-08-28T12:32:04.197172Z",
     "iopub.status.idle": "2023-08-28T12:32:04.613020Z",
     "shell.execute_reply": "2023-08-28T12:32:04.611471Z"
    },
    "papermill": {
     "duration": 0.438986,
     "end_time": "2023-08-28T12:32:04.615823",
     "exception": false,
     "start_time": "2023-08-28T12:32:04.176837",
     "status": "completed"
    },
    "tags": []
   },
   "outputs": [
    {
     "name": "stdout",
     "output_type": "stream",
     "text": [
      "The average negative sentiment message contains 74 characters.\n",
      "The average negative with no emoticon sentiment message contains 73 characters.\n",
      "The average negative with an emoticon sentiment message contains 92 characters.\n",
      "The average positive sentiment message contains 73 characters.\n",
      "The average positive with no emoticon sentiment message contains 72 characters.\n",
      "The average positive with an emoticon sentiment message contains 90 characters.\n"
     ]
    }
   ],
   "source": [
    "def calc_average_character_count(df, target_value, contains_emoticon=None):\n",
    "    if contains_emoticon is not None:\n",
    "        filtered_df = df[(df['target'] == target_value) & (df['contains_emoticon'] == contains_emoticon)]\n",
    "    else:\n",
    "        filtered_df = df[df['target'] == target_value]\n",
    "        \n",
    "    return np.mean(filtered_df['character_count'].values)\n",
    "\n",
    "def print_average_character_count(text, avg_count):\n",
    "    print(f\"The average {text} sentiment message contains {int(avg_count)} characters.\")\n",
    "\n",
    "# Group by 'target' and 'contains_emoticon' columns and count occurrences\n",
    "grouped_df = df.groupby(['target', 'contains_emoticon']).size().reset_index(name='count')\n",
    "\n",
    "# Calculate and print average character count for positive and negative sentiments\n",
    "for target_value, sentiment in [(0, 'negative'), (4, 'positive')]:\n",
    "    avg_count = calc_average_character_count(df, target_value)\n",
    "    print_average_character_count(sentiment, avg_count)\n",
    "    \n",
    "    for contains_emoticon, emoticon_text in [(False, 'with no emoticon'), (True, 'with an emoticon')]:\n",
    "        avg_count = calc_average_character_count(df, target_value, contains_emoticon)\n",
    "        print_average_character_count(f\"{sentiment} {emoticon_text}\", avg_count)"
   ]
  },
  {
   "cell_type": "code",
   "execution_count": 31,
   "id": "84fc3724",
   "metadata": {
    "execution": {
     "iopub.execute_input": "2023-08-28T12:32:04.654766Z",
     "iopub.status.busy": "2023-08-28T12:32:04.653438Z",
     "iopub.status.idle": "2023-08-28T12:32:04.665624Z",
     "shell.execute_reply": "2023-08-28T12:32:04.664452Z"
    },
    "papermill": {
     "duration": 0.034557,
     "end_time": "2023-08-28T12:32:04.668453",
     "exception": false,
     "start_time": "2023-08-28T12:32:04.633896",
     "status": "completed"
    },
    "tags": []
   },
   "outputs": [
    {
     "data": {
      "text/html": [
       "<div>\n",
       "<style scoped>\n",
       "    .dataframe tbody tr th:only-of-type {\n",
       "        vertical-align: middle;\n",
       "    }\n",
       "\n",
       "    .dataframe tbody tr th {\n",
       "        vertical-align: top;\n",
       "    }\n",
       "\n",
       "    .dataframe thead th {\n",
       "        text-align: right;\n",
       "    }\n",
       "</style>\n",
       "<table border=\"1\" class=\"dataframe\">\n",
       "  <thead>\n",
       "    <tr style=\"text-align: right;\">\n",
       "      <th></th>\n",
       "      <th>target</th>\n",
       "      <th>text</th>\n",
       "      <th>contains_emoticon</th>\n",
       "      <th>character_count</th>\n",
       "    </tr>\n",
       "  </thead>\n",
       "  <tbody>\n",
       "    <tr>\n",
       "      <th>0</th>\n",
       "      <td>0</td>\n",
       "      <td>@switchfoot http://twitpic.com/2y1zl - Awww, t...</td>\n",
       "      <td>True</td>\n",
       "      <td>115</td>\n",
       "    </tr>\n",
       "    <tr>\n",
       "      <th>1</th>\n",
       "      <td>0</td>\n",
       "      <td>is upset that he can't update his Facebook by ...</td>\n",
       "      <td>False</td>\n",
       "      <td>111</td>\n",
       "    </tr>\n",
       "    <tr>\n",
       "      <th>2</th>\n",
       "      <td>0</td>\n",
       "      <td>@Kenichan I dived many times for the ball. Man...</td>\n",
       "      <td>False</td>\n",
       "      <td>89</td>\n",
       "    </tr>\n",
       "    <tr>\n",
       "      <th>3</th>\n",
       "      <td>0</td>\n",
       "      <td>my whole body feels itchy and like its on fire</td>\n",
       "      <td>False</td>\n",
       "      <td>47</td>\n",
       "    </tr>\n",
       "    <tr>\n",
       "      <th>4</th>\n",
       "      <td>0</td>\n",
       "      <td>@nationwideclass no, it's not behaving at all....</td>\n",
       "      <td>False</td>\n",
       "      <td>111</td>\n",
       "    </tr>\n",
       "  </tbody>\n",
       "</table>\n",
       "</div>"
      ],
      "text/plain": [
       "   target                                               text  \\\n",
       "0       0  @switchfoot http://twitpic.com/2y1zl - Awww, t...   \n",
       "1       0  is upset that he can't update his Facebook by ...   \n",
       "2       0  @Kenichan I dived many times for the ball. Man...   \n",
       "3       0    my whole body feels itchy and like its on fire    \n",
       "4       0  @nationwideclass no, it's not behaving at all....   \n",
       "\n",
       "   contains_emoticon  character_count  \n",
       "0               True              115  \n",
       "1              False              111  \n",
       "2              False               89  \n",
       "3              False               47  \n",
       "4              False              111  "
      ]
     },
     "execution_count": 31,
     "metadata": {},
     "output_type": "execute_result"
    }
   ],
   "source": [
    "df.head()"
   ]
  },
  {
   "cell_type": "markdown",
   "id": "cb46987d",
   "metadata": {
    "execution": {
     "iopub.execute_input": "2023-07-26T03:06:49.462681Z",
     "iopub.status.busy": "2023-07-26T03:06:49.462233Z",
     "iopub.status.idle": "2023-07-26T03:06:49.468253Z",
     "shell.execute_reply": "2023-07-26T03:06:49.466958Z",
     "shell.execute_reply.started": "2023-07-26T03:06:49.462633Z"
    },
    "papermill": {
     "duration": 0.018674,
     "end_time": "2023-08-28T12:32:04.706855",
     "exception": false,
     "start_time": "2023-08-28T12:32:04.688181",
     "status": "completed"
    },
    "tags": []
   },
   "source": [
    "#### Criteria for \"contains_emoticon\" is flawed due to its sensetivity. It would be possible\n",
    "#### to try filter out for this and using specificty, but this may also be flawed\n",
    "#### Will stick to ignoring contains emoticon column\n",
    "### Also due to average character counts being the same (or atleast very close to it)\n",
    "### Will ignore character_count and it's relationship with the attemping identification of emoticons"
   ]
  },
  {
   "cell_type": "code",
   "execution_count": null,
   "id": "8061a5c8",
   "metadata": {
    "papermill": {
     "duration": 0.018625,
     "end_time": "2023-08-28T12:32:04.744354",
     "exception": false,
     "start_time": "2023-08-28T12:32:04.725729",
     "status": "completed"
    },
    "tags": []
   },
   "outputs": [],
   "source": []
  },
  {
   "cell_type": "markdown",
   "id": "1fbd2aa8",
   "metadata": {
    "papermill": {
     "duration": 0.020518,
     "end_time": "2023-08-28T12:32:04.785157",
     "exception": false,
     "start_time": "2023-08-28T12:32:04.764639",
     "status": "completed"
    },
    "tags": []
   },
   "source": [
    "# EDA finished - Moving on to model Training & evaluation"
   ]
  },
  {
   "cell_type": "code",
   "execution_count": 32,
   "id": "838cb88b",
   "metadata": {
    "execution": {
     "iopub.execute_input": "2023-08-28T12:32:04.828222Z",
     "iopub.status.busy": "2023-08-28T12:32:04.827104Z",
     "iopub.status.idle": "2023-08-28T12:33:58.845272Z",
     "shell.execute_reply": "2023-08-28T12:33:58.843850Z"
    },
    "papermill": {
     "duration": 114.060997,
     "end_time": "2023-08-28T12:33:58.867156",
     "exception": false,
     "start_time": "2023-08-28T12:32:04.806159",
     "status": "completed"
    },
    "tags": []
   },
   "outputs": [
    {
     "name": "stderr",
     "output_type": "stream",
     "text": [
      "/opt/conda/lib/python3.10/site-packages/scipy/__init__.py:146: UserWarning: A NumPy version >=1.16.5 and <1.23.0 is required for this version of SciPy (detected version 1.23.5\n",
      "  warnings.warn(f\"A NumPy version >={np_minversion} and <{np_maxversion}\"\n"
     ]
    },
    {
     "name": "stdout",
     "output_type": "stream",
     "text": [
      "Classification report:\n",
      "               precision    recall  f1-score   support\n",
      "\n",
      "           0       0.81      0.79      0.80    159494\n",
      "           4       0.80      0.81      0.81    160506\n",
      "\n",
      "    accuracy                           0.80    320000\n",
      "   macro avg       0.80      0.80      0.80    320000\n",
      "weighted avg       0.80      0.80      0.80    320000\n",
      "\n",
      "Accuracy score: 0.802725\n"
     ]
    }
   ],
   "source": [
    "from sklearn.model_selection import train_test_split\n",
    "from sklearn.feature_extraction.text import TfidfVectorizer\n",
    "from sklearn.linear_model import LogisticRegression\n",
    "from sklearn.pipeline import Pipeline\n",
    "from sklearn.metrics import classification_report, accuracy_score\n",
    "\n",
    "# Split the data into training and testing sets (80% train, 20% test)\n",
    "X_train, X_test, y_train, y_test = train_test_split(df['text'], df['target'], test_size=0.2, random_state=42)\n",
    "\n",
    "# Create a pipeline for text transformation and classification\n",
    "pipeline = Pipeline([\n",
    "    ('tfidf', TfidfVectorizer()),\n",
    "    ('clf', LogisticRegression(solver='liblinear')),\n",
    "])\n",
    "\n",
    "# Train and evaluate the classifier\n",
    "pipeline.fit(X_train, y_train)\n",
    "predictions_test = pipeline.predict(X_test)\n",
    "print('Classification report:\\n', classification_report(y_test, predictions_test))\n",
    "print('Accuracy score:', accuracy_score(y_test, predictions_test))"
   ]
  },
  {
   "cell_type": "code",
   "execution_count": 33,
   "id": "7157fb15",
   "metadata": {
    "execution": {
     "iopub.execute_input": "2023-08-28T12:33:58.908678Z",
     "iopub.status.busy": "2023-08-28T12:33:58.908002Z",
     "iopub.status.idle": "2023-08-28T12:34:00.383632Z",
     "shell.execute_reply": "2023-08-28T12:34:00.382350Z"
    },
    "papermill": {
     "duration": 1.500648,
     "end_time": "2023-08-28T12:34:00.387131",
     "exception": false,
     "start_time": "2023-08-28T12:33:58.886483",
     "status": "completed"
    },
    "tags": []
   },
   "outputs": [
    {
     "data": {
      "image/png": "[encoded data removed]",
      "text/plain": [
       "<Figure size 600x400 with 2 Axes>"
      ]
     },
     "metadata": {},
     "output_type": "display_data"
    }
   ],
   "source": [
    "import seaborn as sns\n",
    "from sklearn.metrics import confusion_matrix\n",
    "\n",
    "# Plot the confusion matrix\n",
    "confusion = confusion_matrix(y_test, predictions_test)\n",
    "\n",
    "# Define labels for the confusion matrix\n",
    "labels = np.array([['True Negative', 'False Positive'], ['False Negative', 'True Positive']])\n",
    "\n",
    "# Define confusion matrix with labels\n",
    "confusion_labelled = np.zeros_like(confusion, dtype=object)\n",
    "for i in range(2):\n",
    "    for j in range(2):\n",
    "        confusion_labelled[i, j] = f'{labels[i, j]}\\n{confusion[i, j]}'\n",
    "\n",
    "# Plot the confusion matrix\n",
    "plt.figure(figsize=(6, 4))\n",
    "sns.heatmap(confusion, annot=confusion_labelled, cmap='Blues', fmt='', xticklabels=['Negative', 'Positive'], yticklabels=['Negative', 'Positive'])\n",
    "plt.xlabel('Predicted')\n",
    "plt.ylabel('Actual')\n",
    "plt.title('Confusion Matrix')\n",
    "plt.show()"
   ]
  },
  {
   "cell_type": "code",
   "execution_count": 34,
   "id": "1fc85212",
   "metadata": {
    "execution": {
     "iopub.execute_input": "2023-08-28T12:34:00.429472Z",
     "iopub.status.busy": "2023-08-28T12:34:00.428759Z",
     "iopub.status.idle": "2023-08-28T12:34:00.519589Z",
     "shell.execute_reply": "2023-08-28T12:34:00.518129Z"
    },
    "papermill": {
     "duration": 0.115336,
     "end_time": "2023-08-28T12:34:00.522333",
     "exception": false,
     "start_time": "2023-08-28T12:34:00.406997",
     "status": "completed"
    },
    "tags": []
   },
   "outputs": [
    {
     "name": "stdout",
     "output_type": "stream",
     "text": [
      "Text: I am happy\n",
      "Sentiment prediction: [4]\n",
      "Sentiment weighting: 3.934061041450312\n",
      "Sentiment category: Very Positive\n",
      "\n",
      "Text: Why me...\n",
      "Sentiment prediction: [0]\n",
      "Sentiment weighting: 0.08267303606035564\n",
      "Sentiment category: Very Negative\n",
      "\n",
      "Text: Have fun!\n",
      "Sentiment prediction: [4]\n",
      "Sentiment weighting: 3.52356218534283\n",
      "Sentiment category: Very Positive\n",
      "\n",
      "Text: Oh man...\n",
      "Sentiment prediction: [0]\n",
      "Sentiment weighting: 1.2801332992496066\n",
      "Sentiment category: Negative\n",
      "\n",
      "Text: I am a shoe.\n",
      "Sentiment prediction: [4]\n",
      "Sentiment weighting: 2\n",
      "Sentiment category: Neutral\n",
      "\n"
     ]
    }
   ],
   "source": [
    "# Function to calculate sentiment weighting\n",
    "def calculate_sentiment(text):\n",
    "    probs = pipeline.predict_proba([text])\n",
    "    sentiment_value = 0 * probs[0][0] + 4 * probs[0][1]\n",
    "    return 2 if 1.5 < sentiment_value < 2.5 else sentiment_value\n",
    "\n",
    "# Function to convert sentiment weighting to category\n",
    "def sentiment_to_category(sentiment_value):\n",
    "    if sentiment_value <= 0.5:\n",
    "        return 'Very Negative'\n",
    "    elif sentiment_value <= 1.5:\n",
    "        return 'Negative'\n",
    "    elif sentiment_value <= 2.5:\n",
    "        return 'Neutral'\n",
    "    elif sentiment_value <= 3.5:\n",
    "        return 'Positive'\n",
    "    else:\n",
    "        return 'Very Positive'\n",
    "\n",
    "# Texts to judge sentiment\n",
    "texts_to_judge_sentiment = [\"I am happy\", \"Why me...\", \"Have fun!\", \"Oh man...\", \"I am a shoe.\"]\n",
    "\n",
    "# Loop through each text to predict sentiment, print weighting and category\n",
    "for text in texts_to_judge_sentiment:\n",
    "    sentiment_prediction = pipeline.predict([text])[0]\n",
    "    sentiment_weighting = calculate_sentiment(text)\n",
    "    sentiment_category = sentiment_to_category(sentiment_weighting)\n",
    "\n",
    "    print(f'Text: {text}\\nSentiment prediction: [{sentiment_prediction}]\\nSentiment weighting: {sentiment_weighting}\\nSentiment category: {sentiment_category}\\n')"
   ]
  },
  {
   "cell_type": "markdown",
   "id": "cd6f6210",
   "metadata": {
    "papermill": {
     "duration": 0.019067,
     "end_time": "2023-08-28T12:34:00.560772",
     "exception": false,
     "start_time": "2023-08-28T12:34:00.541705",
     "status": "completed"
    },
    "tags": []
   },
   "source": [
    "### Overall model performs well, see more in report - End"
   ]
  }
 ],
 "metadata": {
  "kernelspec": {
   "display_name": "Python 3",
   "language": "python",
   "name": "python3"
  },
  "language_info": {
   "codemirror_mode": {
    "name": "ipython",
    "version": 3
   },
   "file_extension": ".py",
   "mimetype": "text/x-python",
   "name": "python",
   "nbconvert_exporter": "python",
   "pygments_lexer": "ipython3",
   "version": "3.10.12"
  },
  "papermill": {
   "default_parameters": {},
   "duration": 176.988612,
   "end_time": "2023-08-28T12:34:02.609587",
   "environment_variables": {},
   "exception": null,
   "input_path": "__notebook__.ipynb",
   "output_path": "__notebook__.ipynb",
   "parameters": {},
   "start_time": "2023-08-28T12:31:05.620975",
   "version": "2.4.0"
  }
 },
 "nbformat": 4,
 "nbformat_minor": 5
}
