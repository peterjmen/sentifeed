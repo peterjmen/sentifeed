{
 "cells": [
  {
   "cell_type": "code",
   "execution_count": 1,
   "id": "603c38db",
   "metadata": {
    "execution": {
     "iopub.execute_input": "2023-10-04T11:14:02.721608Z",
     "iopub.status.busy": "2023-10-04T11:14:02.720994Z",
     "iopub.status.idle": "2023-10-04T11:15:34.630240Z",
     "shell.execute_reply": "2023-10-04T11:15:34.629383Z"
    },
    "papermill": {
     "duration": 91.9193,
     "end_time": "2023-10-04T11:15:34.635994",
     "exception": false,
     "start_time": "2023-10-04T11:14:02.716694",
     "status": "completed"
    },
    "tags": []
   },
   "outputs": [
    {
     "data": {
      "text/html": [
       "<style>#sk-container-id-1 {color: black;background-color: white;}#sk-container-id-1 pre{padding: 0;}#sk-container-id-1 div.sk-toggleable {background-color: white;}#sk-container-id-1 label.sk-toggleable__label {cursor: pointer;display: block;width: 100%;margin-bottom: 0;padding: 0.3em;box-sizing: border-box;text-align: center;}#sk-container-id-1 label.sk-toggleable__label-arrow:before {content: \"▸\";float: left;margin-right: 0.25em;color: #696969;}#sk-container-id-1 label.sk-toggleable__label-arrow:hover:before {color: black;}#sk-container-id-1 div.sk-estimator:hover label.sk-toggleable__label-arrow:before {color: black;}#sk-container-id-1 div.sk-toggleable__content {max-height: 0;max-width: 0;overflow: hidden;text-align: left;background-color: #f0f8ff;}#sk-container-id-1 div.sk-toggleable__content pre {margin: 0.2em;color: black;border-radius: 0.25em;background-color: #f0f8ff;}#sk-container-id-1 input.sk-toggleable__control:checked~div.sk-toggleable__content {max-height: 200px;max-width: 100%;overflow: auto;}#sk-container-id-1 input.sk-toggleable__control:checked~label.sk-toggleable__label-arrow:before {content: \"▾\";}#sk-container-id-1 div.sk-estimator input.sk-toggleable__control:checked~label.sk-toggleable__label {background-color: #d4ebff;}#sk-container-id-1 div.sk-label input.sk-toggleable__control:checked~label.sk-toggleable__label {background-color: #d4ebff;}#sk-container-id-1 input.sk-hidden--visually {border: 0;clip: rect(1px 1px 1px 1px);clip: rect(1px, 1px, 1px, 1px);height: 1px;margin: -1px;overflow: hidden;padding: 0;position: absolute;width: 1px;}#sk-container-id-1 div.sk-estimator {font-family: monospace;background-color: #f0f8ff;border: 1px dotted black;border-radius: 0.25em;box-sizing: border-box;margin-bottom: 0.5em;}#sk-container-id-1 div.sk-estimator:hover {background-color: #d4ebff;}#sk-container-id-1 div.sk-parallel-item::after {content: \"\";width: 100%;border-bottom: 1px solid gray;flex-grow: 1;}#sk-container-id-1 div.sk-label:hover label.sk-toggleable__label {background-color: #d4ebff;}#sk-container-id-1 div.sk-serial::before {content: \"\";position: absolute;border-left: 1px solid gray;box-sizing: border-box;top: 0;bottom: 0;left: 50%;z-index: 0;}#sk-container-id-1 div.sk-serial {display: flex;flex-direction: column;align-items: center;background-color: white;padding-right: 0.2em;padding-left: 0.2em;position: relative;}#sk-container-id-1 div.sk-item {position: relative;z-index: 1;}#sk-container-id-1 div.sk-parallel {display: flex;align-items: stretch;justify-content: center;background-color: white;position: relative;}#sk-container-id-1 div.sk-item::before, #sk-container-id-1 div.sk-parallel-item::before {content: \"\";position: absolute;border-left: 1px solid gray;box-sizing: border-box;top: 0;bottom: 0;left: 50%;z-index: -1;}#sk-container-id-1 div.sk-parallel-item {display: flex;flex-direction: column;z-index: 1;position: relative;background-color: white;}#sk-container-id-1 div.sk-parallel-item:first-child::after {align-self: flex-end;width: 50%;}#sk-container-id-1 div.sk-parallel-item:last-child::after {align-self: flex-start;width: 50%;}#sk-container-id-1 div.sk-parallel-item:only-child::after {width: 0;}#sk-container-id-1 div.sk-dashed-wrapped {border: 1px dashed gray;margin: 0 0.4em 0.5em 0.4em;box-sizing: border-box;padding-bottom: 0.4em;background-color: white;}#sk-container-id-1 div.sk-label label {font-family: monospace;font-weight: bold;display: inline-block;line-height: 1.2em;}#sk-container-id-1 div.sk-label-container {text-align: center;}#sk-container-id-1 div.sk-container {/* jupyter's `normalize.less` sets `[hidden] { display: none; }` but bootstrap.min.css set `[hidden] { display: none !important; }` so we also need the `!important` here to be able to override the default hidden behavior on the sphinx rendered scikit-learn.org. See: https://github.com/scikit-learn/scikit-learn/issues/21755 */display: inline-block !important;position: relative;}#sk-container-id-1 div.sk-text-repr-fallback {display: none;}</style><div id=\"sk-container-id-1\" class=\"sk-top-container\"><div class=\"sk-text-repr-fallback\"><pre>Pipeline(steps=[(&#x27;tfidf&#x27;, TfidfVectorizer()),\n",
       "                (&#x27;clf&#x27;, LogisticRegression(solver=&#x27;liblinear&#x27;))])</pre><b>In a Jupyter environment, please rerun this cell to show the HTML representation or trust the notebook. <br />On GitHub, the HTML representation is unable to render, please try loading this page with nbviewer.org.</b></div><div class=\"sk-container\" hidden><div class=\"sk-item sk-dashed-wrapped\"><div class=\"sk-label-container\"><div class=\"sk-label sk-toggleable\"><input class=\"sk-toggleable__control sk-hidden--visually\" id=\"sk-estimator-id-1\" type=\"checkbox\" ><label for=\"sk-estimator-id-1\" class=\"sk-toggleable__label sk-toggleable__label-arrow\">Pipeline</label><div class=\"sk-toggleable__content\"><pre>Pipeline(steps=[(&#x27;tfidf&#x27;, TfidfVectorizer()),\n",
       "                (&#x27;clf&#x27;, LogisticRegression(solver=&#x27;liblinear&#x27;))])</pre></div></div></div><div class=\"sk-serial\"><div class=\"sk-item\"><div class=\"sk-estimator sk-toggleable\"><input class=\"sk-toggleable__control sk-hidden--visually\" id=\"sk-estimator-id-2\" type=\"checkbox\" ><label for=\"sk-estimator-id-2\" class=\"sk-toggleable__label sk-toggleable__label-arrow\">TfidfVectorizer</label><div class=\"sk-toggleable__content\"><pre>TfidfVectorizer()</pre></div></div></div><div class=\"sk-item\"><div class=\"sk-estimator sk-toggleable\"><input class=\"sk-toggleable__control sk-hidden--visually\" id=\"sk-estimator-id-3\" type=\"checkbox\" ><label for=\"sk-estimator-id-3\" class=\"sk-toggleable__label sk-toggleable__label-arrow\">LogisticRegression</label><div class=\"sk-toggleable__content\"><pre>LogisticRegression(solver=&#x27;liblinear&#x27;)</pre></div></div></div></div></div></div></div>"
      ],
      "text/plain": [
       "Pipeline(steps=[('tfidf', TfidfVectorizer()),\n",
       "                ('clf', LogisticRegression(solver='liblinear'))])"
      ]
     },
     "execution_count": 1,
     "metadata": {},
     "output_type": "execute_result"
    }
   ],
   "source": [
    "import os\n",
    "import pandas as pd\n",
    "from sklearn.model_selection import train_test_split\n",
    "from sklearn.feature_extraction.text import TfidfVectorizer\n",
    "from sklearn.linear_model import LogisticRegression\n",
    "from sklearn.pipeline import Pipeline\n",
    "\n",
    "# Load data into dataframe with column names\n",
    "file_path = '/kaggle/input/sentiment140/training.1600000.processed.noemoticon.csv'\n",
    "df = pd.read_csv(file_path, encoding='latin1', usecols=[0, 5], names=['target', 'text'])\n",
    "\n",
    "# Split the data into training and testing sets (90% train, 10% test)\n",
    "X_train, X_test, y_train, y_test = train_test_split(df['text'], df['target'], test_size=0.1, random_state=42)\n",
    "\n",
    "# Create a pipeline for text transformation and classification\n",
    "pipeline = Pipeline([\n",
    "    ('tfidf', TfidfVectorizer()),\n",
    "    ('clf', LogisticRegression(solver='liblinear')),\n",
    "])\n",
    "\n",
    "# Train the classifier\n",
    "pipeline.fit(X_train, y_train)"
   ]
  },
  {
   "cell_type": "code",
   "execution_count": 2,
   "id": "9047374d",
   "metadata": {
    "execution": {
     "iopub.execute_input": "2023-10-04T11:15:34.642883Z",
     "iopub.status.busy": "2023-10-04T11:15:34.642333Z",
     "iopub.status.idle": "2023-10-04T11:15:38.184401Z",
     "shell.execute_reply": "2023-10-04T11:15:38.182444Z"
    },
    "papermill": {
     "duration": 3.548735,
     "end_time": "2023-10-04T11:15:38.187288",
     "exception": false,
     "start_time": "2023-10-04T11:15:34.638553",
     "status": "completed"
    },
    "tags": []
   },
   "outputs": [
    {
     "name": "stdout",
     "output_type": "stream",
     "text": [
      "Classification report:\n",
      "               precision    recall  f1-score   support\n",
      "\n",
      "           0       0.81      0.79      0.80     79812\n",
      "           4       0.80      0.81      0.81     80188\n",
      "\n",
      "    accuracy                           0.80    160000\n",
      "   macro avg       0.80      0.80      0.80    160000\n",
      "weighted avg       0.80      0.80      0.80    160000\n",
      "\n",
      "Accuracy score: 0.803325\n"
     ]
    },
    {
     "data": {
      "image/png": "[encoded data removed]",
      "text/plain": [
       "<Figure size 600x400 with 2 Axes>"
      ]
     },
     "metadata": {},
     "output_type": "display_data"
    },
    {
     "name": "stdout",
     "output_type": "stream",
     "text": [
      "Text: I am happy\n",
      "Sentiment weighting: 3.937444981177825\n",
      "Sentiment category: Very Positive\n",
      "\n",
      "Text: Why me...\n",
      "Sentiment weighting: 0.08428786921022012\n",
      "Sentiment category: Very Negative\n",
      "\n",
      "Text: Have fun!\n",
      "Sentiment weighting: 3.536870664030485\n",
      "Sentiment category: Very Positive\n",
      "\n",
      "Text: Oh man...\n",
      "Sentiment weighting: 1.2692636151902943\n",
      "Sentiment category: Negative\n",
      "\n",
      "Text: I am a shoe.\n",
      "Sentiment weighting: 2\n",
      "Sentiment category: Neutral\n",
      "\n"
     ]
    }
   ],
   "source": [
    "import numpy as np\n",
    "import matplotlib.pyplot as plt\n",
    "import seaborn as sns\n",
    "from sklearn.metrics import classification_report, accuracy_score, confusion_matrix\n",
    "\n",
    "# Evaluate the classifier\n",
    "predictions_test = pipeline.predict(X_test)\n",
    "print('Classification report:\\n', classification_report(y_test, predictions_test))\n",
    "print('Accuracy score:', accuracy_score(y_test, predictions_test))\n",
    "\n",
    "# Plot the confusion matrix\n",
    "confusion = confusion_matrix(y_test, predictions_test)\n",
    "\n",
    "# Define labels for the confusion matrix\n",
    "labels = np.array([['True Negative', 'False Positive'], ['False Negative', 'True Positive']])\n",
    "\n",
    "# Define confusion matrix with labels\n",
    "confusion_labelled = np.zeros_like(confusion, dtype=object)\n",
    "for i in range(2):\n",
    "    for j in range(2):\n",
    "        confusion_labelled[i, j] = f'{labels[i, j]}\\n{confusion[i, j]}'\n",
    "\n",
    "# Plot the confusion matrix\n",
    "plt.figure(figsize=(6, 4))\n",
    "sns.heatmap(confusion, annot=confusion_labelled, cmap='Blues', fmt='', xticklabels=['Negative', 'Positive'], yticklabels=['Negative', 'Positive'])\n",
    "plt.xlabel('Predicted')\n",
    "plt.ylabel('Actual')\n",
    "plt.title('Confusion Matrix')\n",
    "plt.show()\n",
    "\n",
    "\n",
    "\n",
    "\n",
    "\n",
    "\n",
    "\n",
    "# Function to calculate sentiment weighting\n",
    "def calculate_sentiment(text):\n",
    "    probs = pipeline.predict_proba([text])\n",
    "    sentiment_value = 0 * probs[0][0] + 4 * probs[0][1]\n",
    "    return 2 if 1.5 < sentiment_value < 2.5 else sentiment_value\n",
    "\n",
    "# Function to convert sentiment weighting to category\n",
    "def sentiment_to_category(sentiment_value):\n",
    "    if sentiment_value <= 0.5:\n",
    "        return 'Very Negative'\n",
    "    elif sentiment_value <= 1.5:\n",
    "        return 'Negative'\n",
    "    elif sentiment_value <= 2.5:\n",
    "        return 'Neutral'\n",
    "    elif sentiment_value <= 3.5:\n",
    "        return 'Positive'\n",
    "    else:\n",
    "        return 'Very Positive'\n",
    "\n",
    "# Texts to judge sentiment\n",
    "texts_to_judge_sentiment = [\"I am happy\", \"Why me...\", \"Have fun!\", \"Oh man...\", \"I am a shoe.\"]\n",
    "\n",
    "# Loop through each text to predict sentiment, print weighting and category\n",
    "for text in texts_to_judge_sentiment:\n",
    "    sentiment_weighting = calculate_sentiment(text)\n",
    "    sentiment_category = sentiment_to_category(sentiment_weighting)\n",
    "\n",
    "    print(f'Text: {text}\\nSentiment weighting: {sentiment_weighting}\\nSentiment category: {sentiment_category}\\n')"
   ]
  },
  {
   "cell_type": "code",
   "execution_count": 3,
   "id": "ba9e953b",
   "metadata": {
    "execution": {
     "iopub.execute_input": "2023-10-04T11:15:38.194621Z",
     "iopub.status.busy": "2023-10-04T11:15:38.194262Z",
     "iopub.status.idle": "2023-10-04T11:15:38.200561Z",
     "shell.execute_reply": "2023-10-04T11:15:38.199362Z"
    },
    "papermill": {
     "duration": 0.012611,
     "end_time": "2023-10-04T11:15:38.202925",
     "exception": false,
     "start_time": "2023-10-04T11:15:38.190314",
     "status": "completed"
    },
    "tags": []
   },
   "outputs": [
    {
     "name": "stdout",
     "output_type": "stream",
     "text": [
      "\n",
      "Text Version of the Confusion Matrix:\n",
      "True Negative: 63283 | False Positive: 16529\n",
      "False Negative: 14939 | True Positive: 65249\n"
     ]
    }
   ],
   "source": [
    "# Print the text version of the confusion matrix\n",
    "print(\"\\nText Version of the Confusion Matrix:\")\n",
    "for i in range(2):\n",
    "    row_text = []\n",
    "    for j in range(2):\n",
    "        row_text.append(f'{labels[i, j]}: {confusion[i, j]}')\n",
    "    print(' | '.join(row_text))"
   ]
  }
 ],
 "metadata": {
  "kernelspec": {
   "display_name": "Python 3",
   "language": "python",
   "name": "python3"
  },
  "language_info": {
   "codemirror_mode": {
    "name": "ipython",
    "version": 3
   },
   "file_extension": ".py",
   "mimetype": "text/x-python",
   "name": "python",
   "nbconvert_exporter": "python",
   "pygments_lexer": "ipython3",
   "version": "3.10.12"
  },
  "papermill": {
   "default_parameters": {},
   "duration": 99.654658,
   "end_time": "2023-10-04T11:15:39.229522",
   "environment_variables": {},
   "exception": null,
   "input_path": "__notebook__.ipynb",
   "output_path": "__notebook__.ipynb",
   "parameters": {},
   "start_time": "2023-10-04T11:13:59.574864",
   "version": "2.4.0"
  }
 },
 "nbformat": 4,
 "nbformat_minor": 5
}
